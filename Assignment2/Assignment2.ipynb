{
 "cells": [
  {
   "cell_type": "markdown",
   "metadata": {},
   "source": [
    "# Assignment 2: Classical Control\n",
    "Name:\n",
    "\n",
    "Purdue Username:\n",
    "\n",
    "\n",
    "In this assignment, you will implement and tune a trajectory following controller for a 2-degree of freedom(DoF) robotic arm, and (optionally) a race car."
   ]
  },
  {
   "cell_type": "markdown",
   "metadata": {
    "tags": []
   },
   "source": [
    "## Getting Started\n",
    "\n",
    "We'll be using OpenAI gym, along with PyBullet, to model the robot's environment.\n",
    "- [OpenAI gym](https://gym.openai.com/) is a toolkit for developing planning and control algorithms. It provides a standard API that abstracts away the model of the robot's environment. It is primarily used for reinforcement learning agents, but can work with any controller, including the PD controllers you'll build in this assignment.\n",
    "  - If you've never used gym, be sure to read this short [tutorial](https://gym.openai.com/docs/) before getting started.\n",
    "- [PyBullet](https://pybullet.org/wordpress/) is an open-source physics engine that we'll use to model the robot.\n",
    "- [pybullet-gym](https://github.com/benelot/pybullet-gym) is an open-source library that implements a variety of gym environments using PyBullet as the backend. One of these environments is `ReacherPyBulletEnv-v0`, the robotic arm that you'll be working with.\n",
    "\n",
    "## Installation Instructions\n",
    "Before running this notebook, you'll need to install `gym` and `pybullet-gym`, like so:\n",
    "```bash\n",
    "~ # install gym\n",
    "~ pip install gym\n",
    "~ # install pybullet-gym\n",
    "~ git clone https://github.com/benelot/pybullet-gym.git\n",
    "~ cd pybullet-gym\n",
    "~ pip install -e .\n",
    "```"
   ]
  },
  {
   "cell_type": "markdown",
   "metadata": {},
   "source": [
    "## Overview: 2-DOF robotic arm"
   ]
  },
  {
   "cell_type": "code",
   "execution_count": 1,
   "metadata": {},
   "outputs": [],
   "source": [
    "# load libraries (if this fails, see \"Installation Instructions\")\n",
    "import gym\n",
    "import numpy as np\n",
    "import pybulletgym.envs\n",
    "import matplotlib.pyplot as plt\n",
    "import pybullet"
   ]
  },
  {
   "cell_type": "code",
   "execution_count": null,
   "metadata": {},
   "outputs": [],
   "source": [
    "# initialize the environment\n",
    "\n",
    "# This try-except is to make sure there is only a single pybullet connection set-up\n",
    "try:\n",
    "    env.reset()\n",
    "except NameError:\n",
    "    env = gym.make(\"ReacherPyBulletEnv-v0\")\n",
    "\n",
    "env.render(mode=\"human\")\n",
    "obs = env.reset()"
   ]
  },
  {
   "cell_type": "markdown",
   "metadata": {},
   "source": [
    "The robot arm you will be controlling looks like this:\n",
    "\n",
    "![RobotArm](robotArm.png)\n",
    "\n",
    "The base of the robot is at the origin; the links $l_0$ and $l_1$ are 0.1 and 0.11 units long respectively.\n",
    "\n",
    "The action space of environment is [$\\tau_0$,$\\tau_1$], where $\\tau_0$ and $\\tau_1$ are the torques applied to joints $q_0$ and $q_1$ respectively."
   ]
  },
  {
   "cell_type": "markdown",
   "metadata": {},
   "source": [
    "Do _not_ use the observation space of the environment to get the robot's position. Instead, use the following class methods to obtain the joint angles:\n",
    "```python\n",
    "# To get the current position and angular velocity of q0\n",
    "q0, q0_dot = env.unwrapped.robot.central_joint.current_position()\n",
    "# To get the current position and angular velocity of q1\n",
    "q1, q1_dot = env.unwrapped.robot.elbow_joint.current_position()\n",
    "\n",
    "# To set joint q0 to a particular position. (Use only before running your controller, to initialize the start position)\n",
    "env.unwrapped.robot.central_joint.reset_position(position, 0)\n",
    "# To set joint q1 to a particular position. (Use only before running your controller, to initialize the start position)\n",
    "env.unwrapped.robot.elbow_joint.reset_position(position, 0)\n",
    "```"
   ]
  },
  {
   "cell_type": "markdown",
   "metadata": {},
   "source": [
    "Your job is to implement PD controllers that track the trajectory\n",
    "\n",
    "$$\\begin{bmatrix}x(\\theta) \\\\ y(\\theta)\\end{bmatrix}\n",
    "= \\begin{bmatrix}(0.19 + 0.02 \\cos 4\\theta)\\cos\\theta \\\\ (0.19 + 0.02 \\cos 4\\theta)\\sin\\theta\\end{bmatrix},\n",
    "\\text{ for }\\theta \\in [-\\pi, \\pi]$$\n",
    "\n",
    "This trajectory is plotted below:"
   ]
  },
  {
   "cell_type": "code",
   "execution_count": 9,
   "metadata": {},
   "outputs": [
    {
     "data": {
      "image/png": "[encoded data removed]",
      "text/plain": [
       "<Figure size 432x288 with 1 Axes>"
      ]
     },
     "metadata": {
      "needs_background": "light"
     },
     "output_type": "display_data"
    }
   ],
   "source": [
    "x = [(0.19 + 0.02 * np.cos(theta * 4)) * np.cos(theta) for theta in np.arange(-np.pi, np.pi, 0.001)]\n",
    "y = [(0.19 + 0.02 * np.cos(theta * 4)) * np.sin(theta) for theta in np.arange(-np.pi, np.pi, 0.001)]\n",
    "plt.plot(x, y)\n",
    "plt.axis('equal')\n",
    "# plt.show()\n",
    "plt.savefig('arm_traj.png')\n",
    "traj = list(zip(x,y))"
   ]
  },
  {
   "cell_type": "markdown",
   "metadata": {},
   "source": [
    "### 1. Forward Model "
   ]
  },
  {
   "cell_type": "markdown",
   "metadata": {},
   "source": [
    "Derive the forward model for the robot as a closed-form expression expressed in joint angles and link length:\n",
    "\n",
    "$$f\\left(\\begin{bmatrix}q_0 \\\\ q_1\\end{bmatrix}\\right) =\n",
    "\\begin{bmatrix}\n",
    "% your answer here\n",
    "\\underline{\\;\\;\\;\\;} \\\\\n",
    "\\underline{\\;\\;\\;\\;}\n",
    "\\end{bmatrix}\n",
    "= \\begin{bmatrix} x \\\\ y\\end{bmatrix}$$"
   ]
  },
  {
   "cell_type": "markdown",
   "metadata": {},
   "source": [
    "Using the robot model parameters, write a function `getForwardModel` that takes the joint states and returns the end-effector position."
   ]
  },
  {
   "cell_type": "code",
   "execution_count": 10,
   "metadata": {},
   "outputs": [],
   "source": [
    "def getForwardModel(q0, q1):\n",
    "    raise NotImplementedError"
   ]
  },
  {
   "cell_type": "markdown",
   "metadata": {},
   "source": [
    "### 2. Jacobian"
   ]
  },
  {
   "cell_type": "markdown",
   "metadata": {},
   "source": [
    "Derive the expression for the Jacobian of the robot:\n",
    "\n",
    "$$J_f(q_0, q_1) = \\begin{bmatrix}\n",
    "\\underline{\\;\\;\\;\\;} % your answer here\n",
    "\\end{bmatrix}$$"
   ]
  },
  {
   "cell_type": "markdown",
   "metadata": {},
   "source": [
    "Write a function `getJacobian` that takes the joint states and returns the Jacobian."
   ]
  },
  {
   "cell_type": "code",
   "execution_count": null,
   "metadata": {},
   "outputs": [],
   "source": [
    "def getJacobian(q0, q1):\n",
    "    raise NotImplementedError"
   ]
  },
  {
   "cell_type": "markdown",
   "metadata": {
    "tags": []
   },
   "source": [
    "### 3. X-Y controller\n",
    "\n",
    "**Background:** for reasons beyond the scope of this course, it so happens that, for any robot,\n",
    "$$\\vec \\tau = J^T \\vec F,$$\n",
    "where\n",
    "- $\\vec F = \\langle F_x, F_y \\rangle$ is the force vector exerted by the robot at the end effector\n",
    "- $\\vec \\tau = \\langle \\tau_0, \\tau_1 \\rangle$ is the vector of torques exerted by the joints\n",
    "- $J$ is the Jacobian matrix at the current position.\n",
    "\n",
    "Use this fact to implement a closed-loop PD controller that controls the robot along the trajectory `traj`, using the error in the end-effector as the input signal. Your controller should compute forces $F_x$ and $F_y$, and then use `getJacobian` along with the above equation to translate them into joint torques.\n",
    "\n",
    "Plot the trajectory of the robot juxtaposed over the desired trajectory, and calculate the mean square error between both paths. Also plot the errors with respect to time, and use those plots to tune your controller.\n",
    "\n",
    "**Note: Initialize the robot arm to $q_0=\\pi$ and $q_1=0$**"
   ]
  },
  {
   "cell_type": "code",
   "execution_count": 6,
   "metadata": {},
   "outputs": [],
   "source": [
    "# Write your script here"
   ]
  },
  {
   "cell_type": "markdown",
   "metadata": {},
   "source": [
    "### 4. Inverse Kinematics"
   ]
  },
  {
   "cell_type": "markdown",
   "metadata": {},
   "source": [
    "Using the functions `getForwardModel` and `getJacobian` from parts 1 and 2, write a function `getIK` that takes the current end-effector position, target end-effector position, and current joint states; and returns the target joint-states."
   ]
  },
  {
   "cell_type": "code",
   "execution_count": 7,
   "metadata": {},
   "outputs": [],
   "source": [
    "def getIK(current_position, target_position, current_state):\n",
    "    raise NotImplementedError"
   ]
  },
  {
   "cell_type": "markdown",
   "metadata": {},
   "source": [
    "Now derive the analytical inverse kinematic solution; i.e. solve the problem using a closed-form equation, rather than an iterative method. _Show your work_. Correct answers without derivations will not receive full credit.\n",
    "\\begin{align*}\n",
    "    % your derivations here\n",
    "    q_0 &= \\underline{\\;\\;\\;\\;} \\\\\n",
    "    q_1 &= \\underline{\\;\\;\\;\\;}\n",
    "\\end{align*}\n",
    "\n",
    "Explain what challenges there would be to use the analytical IK solution to track trajectories:\n",
    "\n",
    "_<your explanation here\\>_"
   ]
  },
  {
   "cell_type": "markdown",
   "metadata": {},
   "source": [
    "### 5. IK controller"
   ]
  },
  {
   "cell_type": "markdown",
   "metadata": {},
   "source": [
    "Implement a closed-loop PD controller that controls the robot along the trajectory `traj`, using the error in the joint-angles as the input signal.\n",
    "\n",
    "Plot the trajectory of the robot juxtaposed over the actual trajectory and caluclate the mean square error between both paths. Also plot the errors with respect to time, and use those plots to tune your controller.\n",
    "\n",
    "**Note: Initialize the robot arm to $q_0=\\pi$ and $q_1=0$**"
   ]
  },
  {
   "cell_type": "code",
   "execution_count": 8,
   "metadata": {},
   "outputs": [],
   "source": [
    "# Write your script here."
   ]
  },
  {
   "cell_type": "markdown",
   "metadata": {},
   "source": [
    "### 6. (Optional) Race Car"
   ]
  },
  {
   "cell_type": "markdown",
   "metadata": {},
   "source": [
    "**Note:** this exercise is optional. If you choose to participate, you will compete with other students to design the best controller for a race car environment. The winner will receive 10 bonus points.\n",
    "\n",
    "The objective of the `racecar` environment is to make the race car travel as far as possible on a track within the given time. There are 3 tracks vailable: `FigureEight`, `Linear`, and `Circle` (default).\n",
    "Each track has a different shape, time limit, and horizon length. To set up an environment with a particular track, you can pass the track name while instantiating the environment. For example, to set up the figure eight trajectory:\n",
    "\n",
    "```python\n",
    "from racecar.SDRaceCar import SDRaceCar\n",
    "env = SDRaceCar(render_env=True, track='FigureEight')\n",
    "```\n",
    "\n",
    "To install the race car environment, run the following commands:\n",
    "```bash\n",
    "~ git clone https://github.com/ucsdarclab/RaceCar.git\n",
    "~ cd RaceCar\n",
    "~ pip install -e .\n",
    "```"
   ]
  },
  {
   "cell_type": "markdown",
   "metadata": {},
   "source": [
    "The action space of the environment consists of [wheel angle, thrust]. The range of both these values are normalized to be between $\\pm 1$.The observation space consists of [$x, y, \\theta, v_x, v_y, \\dot\\theta, h$], where ($x, y, \\theta$) is the intertial frame position of the car; $v_x, v_y$ are the longitudinal and lateral velocities  respectively; and $\\dot\\theta$ is the yaw rate. $h$ is the co-ordinate on the track the car has to reach.\n",
    "\n",
    "At each time step, the race car environment gives a reward that is proportional to the speed of the car and its proximity to the track. It terminates (`done = True`) after a fixed amount of time, or if the car gets too far from the track.\n",
    "\n",
    "Using these observations implement a controller that can traverse all three tracks. You may use different gains for different tracks, but the controller itself must be the same. Record the cumulative reward for each track; these rewards will be summed together to create your controller's score. If your controller has the highest score, you win!\n",
    "\n",
    "_Tip:_ if you call `env.render()` at each step to visualize the car's path, you may find that Jupyter interprets each step as a separate image. To avoid this, try running\n",
    "```IPython\n",
    "%matplotlib tk # others include qt, wx, gtk, osx\n",
    "```\n",
    "to load results as animations in a separate window. You may have to experiment with several different backends to find the one that works best with your system."
   ]
  },
  {
   "cell_type": "code",
   "execution_count": null,
   "metadata": {},
   "outputs": [],
   "source": [
    "from racecar.SDRaceCar import SDRaceCar"
   ]
  },
  {
   "cell_type": "code",
   "execution_count": null,
   "metadata": {},
   "outputs": [],
   "source": [
    "# define your controller here"
   ]
  },
  {
   "cell_type": "code",
   "execution_count": null,
   "metadata": {},
   "outputs": [],
   "source": [
    "rc_env = SDRaceCar(render_env=True,track='Circle')\n",
    "# run your controller for the 'Circle' environment\n"
   ]
  },
  {
   "cell_type": "code",
   "execution_count": null,
   "metadata": {},
   "outputs": [],
   "source": [
    "rc_env = SDRaceCar(render_env=True,track='Linear')\n",
    "# run your controller for the 'Linear' environment\n"
   ]
  },
  {
   "cell_type": "code",
   "execution_count": null,
   "metadata": {},
   "outputs": [],
   "source": [
    "rc_env = SDRaceCar(render_env=True,track='FigureEight')\n",
    "# run your controller for the 'FigureEight' environment\n"
   ]
  }
 ],
 "metadata": {
  "kernelspec": {
   "display_name": "Python 3",
   "language": "python",
   "name": "python3"
  },
  "language_info": {
   "codemirror_mode": {
    "name": "ipython",
    "version": 3
   },
   "file_extension": ".py",
   "mimetype": "text/x-python",
   "name": "python",
   "nbconvert_exporter": "python",
   "pygments_lexer": "ipython3",
   "version": "3.6.9"
  }
 },
 "nbformat": 4,
 "nbformat_minor": 4
}
