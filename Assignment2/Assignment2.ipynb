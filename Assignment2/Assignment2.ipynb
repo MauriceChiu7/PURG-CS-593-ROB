{
 "cells": [
  {
   "cell_type": "markdown",
   "metadata": {},
   "source": [
    "# Assignment 2: Classical Control\n",
    "Name: Yun-Yi Chiu\n",
    "\n",
    "Purdue Username: chiu93\n",
    "\n",
    "\n",
    "In this assignment, you will implement and tune a trajectory following controller for a 2-degree of freedom(DoF) robotic arm, and (optionally) a race car."
   ]
  },
  {
   "cell_type": "markdown",
   "metadata": {
    "tags": []
   },
   "source": [
    "## Getting Started\n",
    "\n",
    "We'll be using OpenAI gym, along with PyBullet, to model the robot's environment.\n",
    "- [OpenAI gym](https://gym.openai.com/) is a toolkit for developing planning and control algorithms. It provides a standard API that abstracts away the model of the robot's environment. It is primarily used for reinforcement learning agents, but can work with any controller, including the PD controllers you'll build in this assignment.\n",
    "  - If you've never used gym, be sure to read this short [tutorial](https://gym.openai.com/docs/) before getting started.\n",
    "- [PyBullet](https://pybullet.org/wordpress/) is an open-source physics engine that we'll use to model the robot.\n",
    "- [pybullet-gym](https://github.com/benelot/pybullet-gym) is an open-source library that implements a variety of gym environments using PyBullet as the backend. One of these environments is `ReacherPyBulletEnv-v0`, the robotic arm that you'll be working with.\n",
    "\n",
    "## Installation Instructions\n",
    "Before running this notebook, you'll need to install `gym` and `pybullet-gym`, like so:\n",
    "```bash\n",
    "~ # install gym\n",
    "~ pip install gym\n",
    "~ # install pybullet-gym\n",
    "~ git clone https://github.com/benelot/pybullet-gym.git\n",
    "~ cd pybullet-gym\n",
    "~ pip install -e .\n",
    "```"
   ]
  },
  {
   "cell_type": "markdown",
   "metadata": {},
   "source": [
    "## Overview: 2-DOF robotic arm"
   ]
  },
  {
   "cell_type": "code",
   "execution_count": 1,
   "metadata": {},
   "outputs": [
    {
     "name": "stderr",
     "output_type": "stream",
     "text": [
      "pybullet build time: Feb 12 2022 10:44:15\n"
     ]
    }
   ],
   "source": [
    "# load libraries (if this fails, see \"Installation Instructions\")\n",
    "import gym\n",
    "import numpy as np\n",
    "import pybulletgym.envs\n",
    "import matplotlib.pyplot as plt\n",
    "import pybullet"
   ]
  },
  {
   "cell_type": "code",
   "execution_count": 2,
   "metadata": {},
   "outputs": [],
   "source": [
    "# initialize constants\n",
    "l0 = 0.1\n",
    "l1 = 0.11"
   ]
  },
  {
   "cell_type": "code",
   "execution_count": 3,
   "metadata": {},
   "outputs": [
    {
     "name": "stderr",
     "output_type": "stream",
     "text": [
      "/Library/Frameworks/Python.framework/Versions/3.9/lib/python3.9/site-packages/gym/spaces/box.py:73: UserWarning: \u001b[33mWARN: Box bound precision lowered by casting to float32\u001b[0m\n",
      "  logger.warn(\n"
     ]
    },
    {
     "name": "stdout",
     "output_type": "stream",
     "text": [
      "argv[0]=\n",
      "Version = 4.1 ATI-4.5.14\n",
      "Vendor = ATI Technologies Inc.\n",
      "Renderer = AMD Radeon Pro Vega 20 OpenGL Engine\n",
      "b3Printf: Selected demo: Physics Server\n",
      "startThreads creating 1 threads.\n",
      "starting thread 0\n",
      "started thread 0 \n",
      "MotionThreadFunc thread started\n"
     ]
    }
   ],
   "source": [
    "# initialize the environment\n",
    "\n",
    "# This try-except is to make sure there is only a single pybullet connection set-up\n",
    "try:\n",
    "    env.reset()\n",
    "except NameError:\n",
    "    env = gym.make(\"ReacherPyBulletEnv-v0\")\n",
    "\n",
    "env.render(mode=\"human\")\n",
    "obs = env.reset()\n",
    "\n",
    "# while (pybullet.isConnected()):\n",
    "#     pybullet.stepSimulation()"
   ]
  },
  {
   "cell_type": "markdown",
   "metadata": {},
   "source": [
    "The robot arm you will be controlling looks like this:\n",
    "\n",
    "![RobotArm](robotArm.png)\n",
    "\n",
    "The base of the robot is at the origin; the links $l_0$ and $l_1$ are 0.1 and 0.11 units long respectively.\n",
    "\n",
    "The action space of environment is [$\\tau_0$,$\\tau_1$], where $\\tau_0$ and $\\tau_1$ are the torques applied to joints $q_0$ and $q_1$ respectively."
   ]
  },
  {
   "cell_type": "markdown",
   "metadata": {},
   "source": [
    "Do _not_ use the observation space of the environment to get the robot's position. Instead, use the following class methods to obtain the joint angles:\n",
    "```python\n",
    "# To get the current position and angular velocity of q0\n",
    "q0, q0_dot = env.unwrapped.robot.central_joint.current_position()\n",
    "# To get the current position and angular velocity of q1\n",
    "q1, q1_dot = env.unwrapped.robot.elbow_joint.current_position()\n",
    "\n",
    "# To set joint q0 to a particular position. (Use only before running your controller, to initialize the start position)\n",
    "env.unwrapped.robot.central_joint.reset_position(position, 0)\n",
    "# To set joint q1 to a particular position. (Use only before running your controller, to initialize the start position)\n",
    "env.unwrapped.robot.elbow_joint.reset_position(position, 0)\n",
    "```"
   ]
  },
  {
   "cell_type": "markdown",
   "metadata": {},
   "source": [
    "Your job is to implement PD controllers that track the trajectory\n",
    "\n",
    "$$\\begin{bmatrix}x(\\theta) \\\\ y(\\theta)\\end{bmatrix}\n",
    "= \\begin{bmatrix}(0.19 + 0.02 \\cos 4\\theta)\\cos\\theta \\\\ (0.19 + 0.02 \\cos 4\\theta)\\sin\\theta\\end{bmatrix},\n",
    "\\text{ for }\\theta \\in [-\\pi, \\pi]$$\n",
    "\n",
    "This trajectory is plotted below:"
   ]
  },
  {
   "cell_type": "code",
   "execution_count": 4,
   "metadata": {},
   "outputs": [],
   "source": [
    "x = [(0.19 + 0.02 * np.cos(theta * 4)) * np.cos(theta) for theta in np.arange(-np.pi, np.pi, 0.001)]\n",
    "y = [(0.19 + 0.02 * np.cos(theta * 4)) * np.sin(theta) for theta in np.arange(-np.pi, np.pi, 0.001)]\n",
    "# plt.plot(x, y, 'b')\n",
    "# plt.axis('equal')\n",
    "# plt.show()\n",
    "# plt.savefig('arm_traj.png')\n",
    "traj = list(zip(x,y))"
   ]
  },
  {
   "cell_type": "markdown",
   "metadata": {},
   "source": [
    "### 1. Forward Model "
   ]
  },
  {
   "cell_type": "markdown",
   "metadata": {},
   "source": [
    "Derive the forward model for the robot as a closed-form expression expressed in joint angles and link length:\n",
    "\n",
    "$$f\\left(\\begin{bmatrix}q_0 \\\\ q_1\\end{bmatrix}\\right) =\n",
    "\\begin{bmatrix}\n",
    "% your answer here\n",
    "l_0 \\cos(q_0) + l_1 \\cos(q_0 + q_1) \\\\\n",
    "l_0 \\sin(q_0) + l_1 \\sin(q_0 + q_1)\n",
    "\\end{bmatrix}\n",
    "= \\begin{bmatrix} x \\\\ y\\end{bmatrix}$$\n",
    "$$\n",
    "\\begin{align*}\n",
    "\\text{where } &q_0 \\text{ denotes the angle of the central joint} \\\\\n",
    "    &q_1 \\text{ denotes the angle of the elbow joint} \\\\\n",
    "    &x \\text{ denotes the end effector's x position} \\\\\n",
    "    &y \\text{ denotes the end effector's y position} \\\\\n",
    "    &l_0 \\text{ denotes the length of the first link (from the central joint to the elbow joint)} \\\\\n",
    "    &l_1 \\text{ denotes the length of the second link (from the elbow joint to the end effector)} \\\\\n",
    "\\end{align*}\n",
    "$$"
   ]
  },
  {
   "cell_type": "markdown",
   "metadata": {},
   "source": [
    "Using the robot model parameters, write a function `getForwardModel` that takes the joint states and returns the end-effector position."
   ]
  },
  {
   "cell_type": "code",
   "execution_count": 5,
   "metadata": {},
   "outputs": [],
   "source": [
    "def getForwardModel(q0, q1):\n",
    "    x = l0 * np.cos(q0) + l1 * np.cos(q0 + q1)\n",
    "    y = l0 * np.sin(q0) + l1 * np.sin(q0 + q1)\n",
    "\n",
    "    return np.array([x, y])\n",
    "    # raise NotImplementedError"
   ]
  },
  {
   "cell_type": "markdown",
   "metadata": {},
   "source": [
    "### 2. Jacobian"
   ]
  },
  {
   "cell_type": "markdown",
   "metadata": {},
   "source": [
    "Derive the expression for the Jacobian of the robot:\n",
    "\n",
    "$$J_f(q_0, q_1) = \\begin{bmatrix}\n",
    "-l_0 \\sin(q_0)-l_1\\sin(q_0+q_1) & -l_1 \\sin(q_0+q_1)\\\\\n",
    "l_0 \\cos(q_0)+l_1 \\cos(q_0+q_1) & l_1 \\cos(q_0+q_1) % your answer here\n",
    "\\end{bmatrix}$$\n",
    "$$\n",
    "\\begin{align*}\n",
    "\\text{where } &q_0 \\text{ denotes the angle of the central joint} \\\\\n",
    "    &q_1 \\text{ denotes the angle of the elbow joint} \\\\\n",
    "    &l_0 \\text{ denotes the length of the first link (from the central joint to the elbow joint)} \\\\\n",
    "    &l_1 \\text{ denotes the length of the second link (from the elbow joint to the end effector)} \\\\\n",
    "\\end{align*}\n",
    "$$"
   ]
  },
  {
   "cell_type": "markdown",
   "metadata": {},
   "source": [
    "The full derivation of the Jacobian matrix can be found in the attached image (jacobian_derivation.jpg):\n",
    "\n",
    "Below is a list of variables used in the full derivation and its equivalent used in this jupyter notebook:\n",
    "\\begin{align*}\n",
    "\\theta_1 \\text{ in full derivation denotes } q_0 \\text{ in answer.}\\\\\n",
    "\\theta_2 \\text{ in full derivation denotes } q_1 \\text{ in answer.}\\\\\n",
    "l_1 \\text{ in full derivation denotes } l_0 \\text{ in answer.}\\\\\n",
    "l_2 \\text{ in full derivation denotes } l_1 \\text{ in answer.}\\\\\n",
    "\\end{align*}\n",
    "\n",
    "![Jacobian](jacobian_derivation.jpg)"
   ]
  },
  {
   "cell_type": "markdown",
   "metadata": {},
   "source": [
    "Write a function `getJacobian` that takes the joint states and returns the Jacobian."
   ]
  },
  {
   "cell_type": "code",
   "execution_count": 6,
   "metadata": {},
   "outputs": [],
   "source": [
    "def getJacobian(q0, q1):\n",
    "    jacobian = np.array([\n",
    "        [-l0 * np.sin(q0) - l1 * np.sin(q0 + q1), -l1 * np.sin(q0 + q1)],\n",
    "        [l0 * np.cos(q0) + l1 * np.cos(q0 + q1), l1 * np.cos(q0 + q1)]\n",
    "    ])\n",
    "    \n",
    "    return jacobian\n",
    "    # raise NotImplementedError"
   ]
  },
  {
   "cell_type": "markdown",
   "metadata": {
    "tags": []
   },
   "source": [
    "### 3. X-Y controller\n",
    "\n",
    "**Background:** for reasons beyond the scope of this course, it so happens that, for any robot,\n",
    "$$\\vec \\tau = J^T \\vec F,$$\n",
    "where\n",
    "- $\\vec F = \\langle F_x, F_y \\rangle$ is the force vector exerted by the robot at the end effector\n",
    "- $\\vec \\tau = \\langle \\tau_0, \\tau_1 \\rangle$ is the vector of torques exerted by the joints\n",
    "- $J$ is the Jacobian matrix at the current position.\n",
    "\n",
    "Use this fact to implement a closed-loop PD controller that controls the robot along the trajectory `traj`, using the error in the end-effector as the input signal. Your controller should compute forces $F_x$ and $F_y$, and then use `getJacobian` along with the above equation to translate them into joint torques.\n",
    "\n",
    "Plot the trajectory of the robot juxtaposed over the desired trajectory, and calculate the mean square error between both paths. Also plot the errors with respect to time, and use those plots to tune your controller.\n",
    "\n",
    "**Note: Initialize the robot arm to $q_0=\\pi$ and $q_1=0$**"
   ]
  },
  {
   "cell_type": "code",
   "execution_count": 7,
   "metadata": {},
   "outputs": [
    {
     "data": {
      "image/png": "[encoded data removed]",
      "text/plain": [
       "<Figure size 432x288 with 1 Axes>"
      ]
     },
     "metadata": {
      "needs_background": "light"
     },
     "output_type": "display_data"
    },
    {
     "name": "stdout",
     "output_type": "stream",
     "text": [
      "mse_x: 7.621621755142144e-07\n",
      "mse_y: 3.3146362119559844e-06\n"
     ]
    },
    {
     "data": {
      "image/png": "[encoded data removed]",
      "text/plain": [
       "<Figure size 432x288 with 1 Axes>"
      ]
     },
     "metadata": {
      "needs_background": "light"
     },
     "output_type": "display_data"
    },
    {
     "data": {
      "text/plain": [
       "<Figure size 432x288 with 0 Axes>"
      ]
     },
     "metadata": {},
     "output_type": "display_data"
    }
   ],
   "source": [
    "# Write your script here\n",
    "# OK 1. Implement a closed-looped PD controller that controls the robot along the traj.\n",
    "# OK 2. Use the error in the end-effector as input: Error here is (ex, ey) = (tx-x, ty-y).\n",
    "# OK 3. PD controller should compute Forces Fx and Fy.\n",
    "# OK 4. Use getJacobian and the given equation to translate them into joint torques\n",
    "# OK 5. Plot the trajectory of the robot.\n",
    "# OK 6. Calculate the mean square error.\n",
    "# OK 7. Plot the errors with repect to time.\n",
    "# OK 8. Use the two plots to tune the PD controller.\n",
    "\n",
    "# Resetting q0 to pi and q1 to 0\n",
    "env.unwrapped.robot.central_joint.reset_position(np.pi, 0) # reset_position(position, velocity)\n",
    "env.unwrapped.robot.elbow_joint.reset_position(0, 0)\n",
    "\n",
    "# PD controller gains (kp=0.8125 works ok)\n",
    "# 1 Good combo\n",
    "# kp = 0.8125\n",
    "# kd = 20\n",
    "\n",
    "# 2 Halved kp - NG\n",
    "# kp = 0.40625\n",
    "# kd = 20\n",
    "\n",
    "# 3 Halved kp doubled kd - NG\n",
    "# kp = 0.40625\n",
    "# kd = 40\n",
    "\n",
    "# 4 Doubled kd - Better than 1\n",
    "# kp = 0.8125\n",
    "# kd = 40\n",
    "\n",
    "# 5 Tripled kd - Second best\n",
    "# kp = 0.8125\n",
    "# kd = 60\n",
    "\n",
    "# 6 Increased kp - Too much, worse than 5\n",
    "# kp = 0.9\n",
    "# kd = 60\n",
    "\n",
    "# 7 Increased kp by less. kp=(trial 5 + trial 6)/2 - Better than 6, still worse than 5\n",
    "# kp = 0.85625\n",
    "# kd = 60\n",
    "\n",
    "# 8 Decreased kp - Best so far!\n",
    "# kp = 0.8\n",
    "# kd = 60\n",
    "\n",
    "# 9 Decreased kp - Best so far!\n",
    "kp = 0.8\n",
    "kd = 80\n",
    "\n",
    "prev_err = np.array([0., 0.]);\n",
    "errors_x = []\n",
    "errors_y = []\n",
    "actual_x = []\n",
    "actual_y = []\n",
    "\n",
    "# while (pybullet.isConnected()):\n",
    "for step in range(len(traj)):\n",
    "    q0, q0_dot = env.unwrapped.robot.central_joint.current_position()\n",
    "    q1, q1_dot = env.unwrapped.robot.elbow_joint.current_position()\n",
    "\n",
    "    # end effector's current position\n",
    "    curr_pos = getForwardModel(q0, q1);\n",
    "    actual_x.append(curr_pos[0])\n",
    "    actual_y.append(curr_pos[1])\n",
    "\n",
    "    # effector's target position\n",
    "    targ_pos = traj[step]\n",
    "\n",
    "    # error based on difference in position\n",
    "    err = targ_pos-curr_pos\n",
    "    errors_x.append(err[0])\n",
    "    errors_y.append(err[1])\n",
    "\n",
    "    # PD controller\n",
    "    force = kp * err + kd * (err - prev_err)\n",
    "\n",
    "    prev_err = err\n",
    "\n",
    "    # calculate Jacobian transpose\n",
    "    j = getJacobian(q0, q1)\n",
    "    jT = j.transpose()\n",
    "    \n",
    "    # calculate torque\n",
    "    tau = np.dot(jT, force)\n",
    "\n",
    "    # apply torque to joints\n",
    "    env.step(tau)\n",
    "\n",
    "plt.plot(x, y, 'b', actual_x, actual_y, 'r')\n",
    "plt.axis('equal')\n",
    "plt.savefig('arm_traj_x-y.png')\n",
    "plt.show()\n",
    "plt.clf()\n",
    "\n",
    "mse_x = np.square(np.subtract(x, actual_x)).mean()\n",
    "mse_y = np.square(np.subtract(y, actual_y)).mean()\n",
    "print(f\"mse_x: {mse_x}\")\n",
    "print(f\"mse_y: {mse_y}\")\n",
    "\n",
    "plt.plot(np.arange(0, len(errors_x)), errors_x, 'b', np.arange(0, len(errors_y)), errors_y, 'r')\n",
    "plt.savefig('err_v_iter_x-y.png')\n",
    "plt.show()\n",
    "plt.clf()"
   ]
  },
  {
   "cell_type": "markdown",
   "metadata": {},
   "source": [
    "### 4. Inverse Kinematics"
   ]
  },
  {
   "cell_type": "markdown",
   "metadata": {},
   "source": [
    "Using the functions `getForwardModel` and `getJacobian` from parts 1 and 2, write a function `getIK` that takes the current end-effector position, target end-effector position, and current joint states; and returns the target joint-states."
   ]
  },
  {
   "cell_type": "code",
   "execution_count": 8,
   "metadata": {},
   "outputs": [],
   "source": [
    "def getIK(current_position, target_position, current_state):\n",
    "    delta_position = target_position - current_position\n",
    "    for i in range(10): \n",
    "        j = getJacobian(current_state[0], current_state[1])\n",
    "        pinvj = np.linalg.pinv(j)\n",
    "\n",
    "        delta_state = np.dot(pinvj, delta_position)\n",
    "        current_state = current_state + delta_state\n",
    "\n",
    "        current_position = getForwardModel(current_state[0], current_state[1])\n",
    "        delta_position = target_position - current_position\n",
    "    return current_state\n",
    "    # raise NotImplementedError"
   ]
  },
  {
   "cell_type": "markdown",
   "metadata": {},
   "source": [
    "Now derive the analytical inverse kinematic solution; i.e. solve the problem using a closed-form equation, rather than an iterative method. _Show your work_. Correct answers without derivations will not receive full credit.\n",
    "\\begin{align*}\n",
    "    % your derivations here\n",
    "    \\textbf{Right-elbow configuration: }\n",
    "    q_0 &= \\tan^{-1}(\\frac{y}{x})-\\tan^{-1}(\\frac{l_1\\sin(q_1)}{l_0+l_1\\cos(q_1)}) \\\\\n",
    "    q_1 &= \\cos^{-1}(\\frac{x^2+y^2-l_0^2-l_1^2}{2l_0l_1}) \\\\\n",
    "    \\text{where } &q_0 \\text{ denotes the angle of the central joint} \\\\\n",
    "    &q_1 \\text{ denotes the angle of the elbow joint} \\\\\n",
    "    &x \\text{ denotes the end effector's x position} \\\\\n",
    "    &y \\text{ denotes the end effector's y position} \\\\\n",
    "    &l_0 \\text{ denotes the length of the first link (from the central joint to the elbow joint)} \\\\\n",
    "    &l_1 \\text{ denotes the length of the second link (from the elbow joint to the end effector)} \\\\\n",
    "\\end{align*}\n",
    "\n",
    "\\begin{align*}\n",
    "    % your derivations here\n",
    "    \\textbf{Left-elbow configuration: }\n",
    "    q_0^* &= \\tan^{-1}(\\frac{y}{x})+\\tan^{-1}(\\frac{l_1\\sin(|q_1^*|)}{l_0+l_1\\cos(q_1^*)}) \\\\\n",
    "    q_1^* &= -q_1 \\\\\n",
    "    \\text{where } &q_0^* \\text{ denotes the angle of the central joint} \\\\\n",
    "    &q_1^* \\text{ denotes the angle of the elbow joint} \\\\\n",
    "    &x \\text{ denotes the end effector's x position} \\\\\n",
    "    &y \\text{ denotes the end effector's y position} \\\\\n",
    "    &l_0 \\text{ denotes the length of the first link (from the central joint to the elbow joint)} \\\\\n",
    "    &l_1 \\text{ denotes the length of the second link (from the elbow joint to the end effector)} \\\\\n",
    "\\end{align*}\n",
    "\n",
    "The full derivation can be found in the attached image (analytical_approach_derivation.jpg).\n",
    "\n",
    "Below is a list of variables used in the full derivation and its equivalent used in this jupyter notebook:\n",
    "\\begin{align*}\n",
    "\\theta_1 \\text{ in full derivation denotes } q_0 \\text{ in answer.}\\\\\n",
    "\\theta_2 \\text{ in full derivation denotes } q_1 \\text{ in answer.}\\\\\n",
    "\\theta_1^* \\text{ in full derivation denotes } q_0^* \\text{ in answer.}\\\\\n",
    "\\theta_2^* \\text{ in full derivation denotes } q_1^* \\text{ in answer.}\\\\\n",
    "l_1 \\text{ in full derivation denotes } l_0 \\text{ in answer.}\\\\\n",
    "l_2 \\text{ in full derivation denotes } l_1 \\text{ in answer.}\\\\\n",
    "\\end{align*}\n",
    "![Derivation](analytical_approach_derivation.jpg)\n",
    "\n",
    "Explain what challenges there would be to use the analytical IK solution to track trajectories:\n",
    "\n",
    "1. As the degree of freedom of the robot increases, it would become very difficult to derive. \n",
    "2. The derived solution is also robot specific so that a different robot would require a different solution to be derived. \n",
    "3. Lastly, there would be cases where an analytical solution does not exist. It happens when the degrees of freedom of the robot exceeds the degrees of freedom of the end-effector. In other words, it is only possible to derive an analytical solution for nonredundant robots."
   ]
  },
  {
   "cell_type": "markdown",
   "metadata": {},
   "source": [
    "### 5. IK controller"
   ]
  },
  {
   "cell_type": "markdown",
   "metadata": {},
   "source": [
    "Implement a closed-loop PD controller that controls the robot along the trajectory `traj`, using the error in the joint-angles as the input signal.\n",
    "\n",
    "Plot the trajectory of the robot juxtaposed over the actual trajectory and caluclate the mean square error between both paths. Also plot the errors with respect to time, and use those plots to tune your controller.\n",
    "\n",
    "**Note: Initialize the robot arm to $q_0=\\pi$ and $q_1=0$**"
   ]
  },
  {
   "cell_type": "code",
   "execution_count": 9,
   "metadata": {},
   "outputs": [
    {
     "data": {
      "image/png": "[encoded data removed]",
      "text/plain": [
       "<Figure size 432x288 with 1 Axes>"
      ]
     },
     "metadata": {
      "needs_background": "light"
     },
     "output_type": "display_data"
    },
    {
     "name": "stdout",
     "output_type": "stream",
     "text": [
      "mse_x: 7.989932210126253e-05\n",
      "mse_y: 4.894141963233895e-05\n"
     ]
    },
    {
     "data": {
      "image/png": "[encoded data removed]",
      "text/plain": [
       "<Figure size 432x288 with 1 Axes>"
      ]
     },
     "metadata": {
      "needs_background": "light"
     },
     "output_type": "display_data"
    },
    {
     "data": {
      "text/plain": [
       "<Figure size 432x288 with 0 Axes>"
      ]
     },
     "metadata": {},
     "output_type": "display_data"
    }
   ],
   "source": [
    "# Write your script here.\n",
    "\n",
    "# Resetting q0 to pi and q1 to 0\n",
    "env.unwrapped.robot.central_joint.reset_position(np.pi, 0) # reset_position(position, velocity)\n",
    "env.unwrapped.robot.elbow_joint.reset_position(0, 0)\n",
    "\n",
    "# PD controller gains (kp=0.8125 works ok)\n",
    "# 1 Good combo\n",
    "# kp = 10\n",
    "# kd = 30\n",
    "\n",
    "# 2 \n",
    "kp = 0.001\n",
    "kp = 100\n",
    "kd = 200\n",
    "\n",
    "prev_err = np.array([0., 0.]);\n",
    "\n",
    "errors_q0 = []\n",
    "errors_q1 = []\n",
    "\n",
    "actual_x = []\n",
    "actual_y = []\n",
    "\n",
    "for step in range(len(traj)):\n",
    "    # get current joint state\n",
    "    q0, q0_dot = env.unwrapped.robot.central_joint.current_position()\n",
    "    q1, q1_dot = env.unwrapped.robot.elbow_joint.current_position()\n",
    "    curr_state = np.array([q0, q1])\n",
    "\n",
    "    # get end effector's current position\n",
    "    curr_pos = getForwardModel(q0, q1);\n",
    "    actual_x.append(curr_pos[0])\n",
    "    actual_y.append(curr_pos[1])\n",
    "\n",
    "    # get effector's target position\n",
    "    targ_pos = traj[step]\n",
    "\n",
    "    # err = np.array([np.inf, np.inf])\n",
    "    \n",
    "    # while err[0] > 0.001 and err[1] > 0.001:\n",
    "    #     targ_state = getIK(curr_pos, targ_pos, curr_state)\n",
    "    #     err = targ_state - curr_state\n",
    "        # print(err)\n",
    "\n",
    "    targ_state = getIK(curr_pos, targ_pos, curr_state)\n",
    "\n",
    "    err = targ_state - curr_state\n",
    "\n",
    "    # error based on difference in joint angles\n",
    "    errors_q0.append(err[0])\n",
    "    errors_q1.append(err[1])\n",
    "\n",
    "    # PD controller\n",
    "    # print(f\"step:       {step}\")\n",
    "    # print(f\"err:        {err}\")\n",
    "    # print(f\"prev_err:   {prev_err}\")\n",
    "    # print(f\"force:      {force}\")\n",
    "    force = kp * err + kd * (err - prev_err)\n",
    "\n",
    "    prev_err = err\n",
    "\n",
    "    env.step(force)\n",
    "\n",
    "plt.plot(x, y, 'b', actual_x, actual_y, 'r')\n",
    "plt.axis('equal')\n",
    "plt.savefig('arm_traj_ik.png')\n",
    "plt.show()\n",
    "plt.clf()\n",
    "\n",
    "mse_x = np.square(np.subtract(x, actual_x)).mean()\n",
    "mse_y = np.square(np.subtract(y, actual_y)).mean()\n",
    "print(f\"mse_x: {mse_x}\")\n",
    "print(f\"mse_y: {mse_y}\")\n",
    "\n",
    "plt.plot(np.arange(0, len(errors_q0)), errors_q0, 'b', np.arange(0, len(errors_q1)), errors_q1, 'r')\n",
    "plt.savefig('err_v_iter_ik.png')\n",
    "plt.show()\n",
    "plt.clf()"
   ]
  },
  {
   "cell_type": "markdown",
   "metadata": {},
   "source": [
    "### 6. (Optional) Race Car"
   ]
  },
  {
   "cell_type": "markdown",
   "metadata": {},
   "source": [
    "**Note:** this exercise is optional. If you choose to participate, you will compete with other students to design the best controller for a race car environment. The winner will receive 10 bonus points.\n",
    "\n",
    "The objective of the `racecar` environment is to make the race car travel as far as possible on a track within the given time. There are 3 tracks vailable: `FigureEight`, `Linear`, and `Circle` (default).\n",
    "Each track has a different shape, time limit, and horizon length. To set up an environment with a particular track, you can pass the track name while instantiating the environment. For example, to set up the figure eight trajectory:\n",
    "\n",
    "```python\n",
    "from racecar.SDRaceCar import SDRaceCar\n",
    "env = SDRaceCar(render_env=True, track='FigureEight')\n",
    "```\n",
    "\n",
    "To install the race car environment, run the following commands:\n",
    "```bash\n",
    "~ git clone https://github.com/ucsdarclab/RaceCar.git\n",
    "~ cd RaceCar\n",
    "~ pip install -e .\n",
    "```"
   ]
  },
  {
   "cell_type": "markdown",
   "metadata": {},
   "source": [
    "The action space of the environment consists of [wheel angle, thrust]. The range of both these values are normalized to be between $\\pm 1$.The observation space consists of [$x, y, \\theta, v_x, v_y, \\dot\\theta, h$], where ($x, y, \\theta$) is the intertial frame position of the car; $v_x, v_y$ are the longitudinal and lateral velocities  respectively; and $\\dot\\theta$ is the yaw rate. $h$ is the co-ordinate on the track the car has to reach.\n",
    "\n",
    "At each time step, the race car environment gives a reward that is proportional to the speed of the car and its proximity to the track. It terminates (`done = True`) after a fixed amount of time, or if the car gets too far from the track.\n",
    "\n",
    "Using these observations implement a controller that can traverse all three tracks. You may use different gains for different tracks, but the controller itself must be the same. Record the cumulative reward for each track; these rewards will be summed together to create your controller's score. If your controller has the highest score, you win!\n",
    "\n",
    "_Tip:_ if you call `env.render()` at each step to visualize the car's path, you may find that Jupyter interprets each step as a separate image. To avoid this, try running\n",
    "```IPython\n",
    "%matplotlib tk # others include qt, wx, gtk, osx\n",
    "```\n",
    "to load results as animations in a separate window. You may have to experiment with several different backends to find the one that works best with your system."
   ]
  },
  {
   "cell_type": "code",
   "execution_count": 10,
   "metadata": {},
   "outputs": [],
   "source": [
    "# from racecar.SDRaceCar import SDRaceCar"
   ]
  },
  {
   "cell_type": "code",
   "execution_count": 11,
   "metadata": {},
   "outputs": [],
   "source": [
    "# define your controller here"
   ]
  },
  {
   "cell_type": "code",
   "execution_count": 12,
   "metadata": {},
   "outputs": [],
   "source": [
    "# rc_env = SDRaceCar(render_env=True,track='Circle')\n",
    "# run your controller for the 'Circle' environment\n"
   ]
  },
  {
   "cell_type": "code",
   "execution_count": 13,
   "metadata": {},
   "outputs": [],
   "source": [
    "# rc_env = SDRaceCar(render_env=True,track='Linear')\n",
    "# run your controller for the 'Linear' environment\n"
   ]
  },
  {
   "cell_type": "code",
   "execution_count": 14,
   "metadata": {},
   "outputs": [],
   "source": [
    "# rc_env = SDRaceCar(render_env=True,track='FigureEight')\n",
    "# run your controller for the 'FigureEight' environment\n"
   ]
  }
 ],
 "metadata": {
  "kernelspec": {
   "display_name": "Python 3",
   "language": "python",
   "name": "python3"
  },
  "language_info": {
   "codemirror_mode": {
    "name": "ipython",
    "version": 3
   },
   "file_extension": ".py",
   "mimetype": "text/x-python",
   "name": "python",
   "nbconvert_exporter": "python",
   "pygments_lexer": "ipython3",
   "version": "3.9.0"
  }
 },
 "nbformat": 4,
 "nbformat_minor": 4
}
